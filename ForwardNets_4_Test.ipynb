{
 "cells": [
  {
   "cell_type": "markdown",
   "metadata": {},
   "source": [
    "# forward Testset to res152"
   ]
  },
  {
   "cell_type": "code",
   "execution_count": 1,
   "metadata": {
    "collapsed": true
   },
   "outputs": [],
   "source": [
    "import tensorflow as tf\n",
    "import matplotlib.pyplot as plt\n",
    "import numpy as np\n",
    "sess = tf.InteractiveSession()\n",
    "graph = tf.get_default_graph()"
   ]
  },
  {
   "cell_type": "code",
   "execution_count": 2,
   "metadata": {
    "collapsed": false
   },
   "outputs": [],
   "source": [
    "#load preprocessed data\n",
    "feature_x=np.load(\"/home/stream/whimh2.0/Bibi/test_X.npy\")\n"
   ]
  },
  {
   "cell_type": "code",
   "execution_count": 3,
   "metadata": {
    "collapsed": true
   },
   "outputs": [],
   "source": [
    "x_tf = tf.placeholder(tf.float32, shape=[None, 64,64,3])\n",
    "x_tf_1=tf.image.resize_images(x_tf,224,224)\n"
   ]
  },
  {
   "cell_type": "code",
   "execution_count": 4,
   "metadata": {
    "collapsed": false
   },
   "outputs": [],
   "source": [
    "frames=sess.run(x_tf_1, feed_dict={x_tf:(feature_x)})"
   ]
  },
  {
   "cell_type": "code",
   "execution_count": 5,
   "metadata": {
    "collapsed": true
   },
   "outputs": [],
   "source": [
    "del feature_x"
   ]
  },
  {
   "cell_type": "code",
   "execution_count": 6,
   "metadata": {
    "collapsed": false
   },
   "outputs": [],
   "source": [
    "newsaver=tf.train.import_meta_graph('/home/stream/tensorflow-resnet-pretrained-20160509/ResNet-L152.meta')\n",
    "newsaver.restore(sess,'/home/stream/tensorflow-resnet-pretrained-20160509/ResNet-L152.ckpt')"
   ]
  },
  {
   "cell_type": "code",
   "execution_count": 7,
   "metadata": {
    "collapsed": true
   },
   "outputs": [],
   "source": [
    "#save the current graph and see what happens\n",
    "train_writer = tf.train.SummaryWriter('/tmp/resnet152/train',sess.graph)"
   ]
  },
  {
   "cell_type": "code",
   "execution_count": 8,
   "metadata": {
    "collapsed": false
   },
   "outputs": [],
   "source": [
    "graph = tf.get_default_graph()\n",
    "#[i.name for i in graph.get_operations()]"
   ]
  },
  {
   "cell_type": "code",
   "execution_count": 9,
   "metadata": {
    "collapsed": false
   },
   "outputs": [],
   "source": [
    "feature_net=graph.get_tensor_by_name(\"scale5/block3/Relu:0\")\n",
    "#feature_net=graph.get_tensor_by_name(\"mul:0\")"
   ]
  },
  {
   "cell_type": "code",
   "execution_count": 10,
   "metadata": {
    "collapsed": false
   },
   "outputs": [],
   "source": [
    "images=graph.get_tensor_by_name(\"images:0\")"
   ]
  },
  {
   "cell_type": "code",
   "execution_count": 11,
   "metadata": {
    "collapsed": false,
    "scrolled": true
   },
   "outputs": [
    {
     "name": "stdout",
     "output_type": "stream",
     "text": [
      "Tensor(\"images:0\", dtype=float32, device=/device:CPU:0)\n",
      "Tensor(\"scale5/block3/Relu:0\", dtype=float32, device=/device:CPU:0)\n",
      "(12500, 224, 224, 3)\n"
     ]
    }
   ],
   "source": [
    "# take a look at this\n",
    "print images\n",
    "print feature_net\n",
    "print frames.shape"
   ]
  },
  {
   "cell_type": "code",
   "execution_count": 12,
   "metadata": {
    "collapsed": false
   },
   "outputs": [],
   "source": [
    "feature_x=sess.run(feature_net, feed_dict={images:(frames[:100]/255)})"
   ]
  },
  {
   "cell_type": "code",
   "execution_count": 13,
   "metadata": {
    "collapsed": false,
    "scrolled": false
   },
   "outputs": [
    {
     "name": "stdout",
     "output_type": "stream",
     "text": [
      "CPU times: user 6 µs, sys: 1 µs, total: 7 µs\n",
      "Wall time: 15 µs\n",
      "current i: 5\n",
      "current i: 10\n",
      "current i: 15\n",
      "current i: 20\n",
      "current i: 25\n",
      "current i: 30\n",
      "current i: 35\n",
      "current i: 40\n",
      "current i: 45\n",
      "current i: 50\n",
      "current i: 55\n",
      "current i: 60\n",
      "current i: 65\n",
      "current i: 70\n",
      "current i: 75\n",
      "current i: 80\n",
      "current i: 85\n",
      "current i: 90\n",
      "current i: 95\n",
      "current i: 100\n",
      "current i: 105\n",
      "current i: 110\n",
      "current i: 115\n",
      "current i: 120\n"
     ]
    }
   ],
   "source": [
    "%time\n",
    "for i in range(1,125):\n",
    "    if i%5==0:\n",
    "        print \"current i: \"+str(i)\n",
    "    feature_temp = sess.run([feature_net], feed_dict={images:frames[i*100:(i+1)*100]/255})[0]\n",
    "    feature_x=np.concatenate((feature_x, feature_temp), axis=0)"
   ]
  },
  {
   "cell_type": "code",
   "execution_count": 14,
   "metadata": {
    "collapsed": false
   },
   "outputs": [
    {
     "name": "stdout",
     "output_type": "stream",
     "text": [
      "(12500, 7, 7, 2048)\n"
     ]
    }
   ],
   "source": [
    "print feature_x.shape"
   ]
  },
  {
   "cell_type": "code",
   "execution_count": 15,
   "metadata": {
    "collapsed": true
   },
   "outputs": [],
   "source": [
    "np.save(\"/home/stream/whimh2.0/Bibi/test_res_152_scale5\",feature_x)\n",
    "tf.reset_default_graph()\n",
    "sess.close()"
   ]
  },
  {
   "cell_type": "markdown",
   "metadata": {},
   "source": [
    "# forward Testset to res101"
   ]
  },
  {
   "cell_type": "code",
   "execution_count": 1,
   "metadata": {
    "collapsed": true
   },
   "outputs": [],
   "source": [
    "import tensorflow as tf\n",
    "import matplotlib.pyplot as plt\n",
    "import numpy as np\n",
    "sess = tf.InteractiveSession()\n",
    "graph = tf.get_default_graph()"
   ]
  },
  {
   "cell_type": "code",
   "execution_count": 2,
   "metadata": {
    "collapsed": false
   },
   "outputs": [],
   "source": [
    "#load preprocessed data\n",
    "feature_x=np.load(\"/home/stream/whimh2.0/Bibi/test_X.npy\")\n"
   ]
  },
  {
   "cell_type": "code",
   "execution_count": 3,
   "metadata": {
    "collapsed": true
   },
   "outputs": [],
   "source": [
    "x_tf = tf.placeholder(tf.float32, shape=[None, 64,64,3])\n",
    "x_tf_1=tf.image.resize_images(x_tf,224,224)\n"
   ]
  },
  {
   "cell_type": "code",
   "execution_count": 4,
   "metadata": {
    "collapsed": false
   },
   "outputs": [],
   "source": [
    "frames=sess.run(x_tf_1, feed_dict={x_tf:(feature_x)})"
   ]
  },
  {
   "cell_type": "code",
   "execution_count": 5,
   "metadata": {
    "collapsed": true
   },
   "outputs": [],
   "source": [
    "del feature_x"
   ]
  },
  {
   "cell_type": "code",
   "execution_count": 6,
   "metadata": {
    "collapsed": false
   },
   "outputs": [],
   "source": [
    "newsaver=tf.train.import_meta_graph('/home/stream/tensorflow-resnet-pretrained-20160509/ResNet-L101.meta')\n",
    "newsaver.restore(sess,'/home/stream/tensorflow-resnet-pretrained-20160509/ResNet-L101.ckpt')"
   ]
  },
  {
   "cell_type": "code",
   "execution_count": 7,
   "metadata": {
    "collapsed": true
   },
   "outputs": [],
   "source": [
    "#save the current graph and see what happens\n",
    "train_writer = tf.train.SummaryWriter('/tmp/resnet101/train',sess.graph)"
   ]
  },
  {
   "cell_type": "code",
   "execution_count": 8,
   "metadata": {
    "collapsed": false
   },
   "outputs": [],
   "source": [
    "graph = tf.get_default_graph()\n",
    "#[i.name for i in graph.get_operations()]"
   ]
  },
  {
   "cell_type": "code",
   "execution_count": 9,
   "metadata": {
    "collapsed": false
   },
   "outputs": [],
   "source": [
    "feature_net=graph.get_tensor_by_name(\"scale5/block3/Relu:0\")\n",
    "#feature_net=graph.get_tensor_by_name(\"mul:0\")"
   ]
  },
  {
   "cell_type": "code",
   "execution_count": 10,
   "metadata": {
    "collapsed": false
   },
   "outputs": [],
   "source": [
    "images=graph.get_tensor_by_name(\"images:0\")"
   ]
  },
  {
   "cell_type": "code",
   "execution_count": 11,
   "metadata": {
    "collapsed": false,
    "scrolled": false
   },
   "outputs": [
    {
     "name": "stdout",
     "output_type": "stream",
     "text": [
      "Tensor(\"images:0\", dtype=float32, device=/device:CPU:0)\n",
      "Tensor(\"scale5/block3/Relu:0\", dtype=float32, device=/device:CPU:0)\n",
      "(12500, 224, 224, 3)\n"
     ]
    }
   ],
   "source": [
    "# take a look at this\n",
    "print images\n",
    "print feature_net\n",
    "print frames.shape"
   ]
  },
  {
   "cell_type": "code",
   "execution_count": 12,
   "metadata": {
    "collapsed": false
   },
   "outputs": [],
   "source": [
    "feature_x=sess.run(feature_net, feed_dict={images:(frames[:100]/255)})"
   ]
  },
  {
   "cell_type": "code",
   "execution_count": 13,
   "metadata": {
    "collapsed": false,
    "scrolled": false
   },
   "outputs": [
    {
     "name": "stdout",
     "output_type": "stream",
     "text": [
      "CPU times: user 8 µs, sys: 1 µs, total: 9 µs\n",
      "Wall time: 15 µs\n",
      "current i: 5\n",
      "current i: 10\n",
      "current i: 15\n",
      "current i: 20\n",
      "current i: 25\n",
      "current i: 30\n",
      "current i: 35\n",
      "current i: 40\n",
      "current i: 45\n",
      "current i: 50\n",
      "current i: 55\n",
      "current i: 60\n",
      "current i: 65\n",
      "current i: 70\n",
      "current i: 75\n",
      "current i: 80\n",
      "current i: 85\n",
      "current i: 90\n",
      "current i: 95\n",
      "current i: 100\n",
      "current i: 105\n",
      "current i: 110\n",
      "current i: 115\n",
      "current i: 120\n"
     ]
    }
   ],
   "source": [
    "%time\n",
    "for i in range(1,125):\n",
    "    if i%5==0:\n",
    "        print \"current i: \"+str(i)\n",
    "    feature_temp = sess.run([feature_net], feed_dict={images:frames[i*100:(i+1)*100]/255})[0]\n",
    "    feature_x=np.concatenate((feature_x, feature_temp), axis=0)"
   ]
  },
  {
   "cell_type": "code",
   "execution_count": 14,
   "metadata": {
    "collapsed": false
   },
   "outputs": [
    {
     "name": "stdout",
     "output_type": "stream",
     "text": [
      "(12500, 7, 7, 2048)\n"
     ]
    }
   ],
   "source": [
    "print feature_x.shape"
   ]
  },
  {
   "cell_type": "code",
   "execution_count": 15,
   "metadata": {
    "collapsed": true
   },
   "outputs": [],
   "source": [
    "np.save(\"/home/stream/whimh2.0/Bibi/test_res_101_scale5\",feature_x)"
   ]
  },
  {
   "cell_type": "code",
   "execution_count": 16,
   "metadata": {
    "collapsed": true
   },
   "outputs": [],
   "source": [
    "tf.reset_default_graph()\n",
    "sess.close()"
   ]
  },
  {
   "cell_type": "markdown",
   "metadata": {},
   "source": [
    "# forward Testset to res50"
   ]
  },
  {
   "cell_type": "code",
   "execution_count": 1,
   "metadata": {
    "collapsed": true
   },
   "outputs": [],
   "source": [
    "import tensorflow as tf\n",
    "import matplotlib.pyplot as plt\n",
    "import numpy as np\n",
    "sess = tf.InteractiveSession()\n",
    "graph = tf.get_default_graph()"
   ]
  },
  {
   "cell_type": "code",
   "execution_count": 2,
   "metadata": {
    "collapsed": false
   },
   "outputs": [],
   "source": [
    "#load preprocessed data\n",
    "feature_x=np.load(\"/home/stream/whimh2.0/Bibi/test_X.npy\")\n"
   ]
  },
  {
   "cell_type": "code",
   "execution_count": 3,
   "metadata": {
    "collapsed": true
   },
   "outputs": [],
   "source": [
    "x_tf = tf.placeholder(tf.float32, shape=[None, 64,64,3])\n",
    "x_tf_1=tf.image.resize_images(x_tf,224,224)\n"
   ]
  },
  {
   "cell_type": "code",
   "execution_count": 4,
   "metadata": {
    "collapsed": false
   },
   "outputs": [],
   "source": [
    "frames=sess.run(x_tf_1, feed_dict={x_tf:(feature_x)})"
   ]
  },
  {
   "cell_type": "code",
   "execution_count": 5,
   "metadata": {
    "collapsed": false
   },
   "outputs": [],
   "source": [
    "del feature_x"
   ]
  },
  {
   "cell_type": "code",
   "execution_count": 6,
   "metadata": {
    "collapsed": false
   },
   "outputs": [],
   "source": [
    "newsaver=tf.train.import_meta_graph('/home/stream/tensorflow-resnet-pretrained-20160509/ResNet-L50.meta')\n",
    "newsaver.restore(sess,'/home/stream/tensorflow-resnet-pretrained-20160509/ResNet-L50.ckpt')"
   ]
  },
  {
   "cell_type": "code",
   "execution_count": 7,
   "metadata": {
    "collapsed": true
   },
   "outputs": [],
   "source": [
    "#save the current graph and see what happens\n",
    "train_writer = tf.train.SummaryWriter('/tmp/resnet50/train',sess.graph)"
   ]
  },
  {
   "cell_type": "code",
   "execution_count": 8,
   "metadata": {
    "collapsed": false
   },
   "outputs": [],
   "source": [
    "graph = tf.get_default_graph()\n",
    "#[i.name for i in graph.get_operations()]"
   ]
  },
  {
   "cell_type": "code",
   "execution_count": 9,
   "metadata": {
    "collapsed": false
   },
   "outputs": [],
   "source": [
    "feature_net=graph.get_tensor_by_name(\"scale5/block3/Relu:0\")\n",
    "#feature_net=graph.get_tensor_by_name(\"mul:0\")"
   ]
  },
  {
   "cell_type": "code",
   "execution_count": 10,
   "metadata": {
    "collapsed": false
   },
   "outputs": [],
   "source": [
    "images=graph.get_tensor_by_name(\"images:0\")"
   ]
  },
  {
   "cell_type": "code",
   "execution_count": 11,
   "metadata": {
    "collapsed": false,
    "scrolled": false
   },
   "outputs": [
    {
     "name": "stdout",
     "output_type": "stream",
     "text": [
      "Tensor(\"images:0\", dtype=float32, device=/device:CPU:0)\n",
      "Tensor(\"scale5/block3/Relu:0\", dtype=float32, device=/device:CPU:0)\n",
      "(12500, 224, 224, 3)\n"
     ]
    }
   ],
   "source": [
    "# take a look at this\n",
    "print images\n",
    "print feature_net\n",
    "print frames.shape"
   ]
  },
  {
   "cell_type": "code",
   "execution_count": 12,
   "metadata": {
    "collapsed": false
   },
   "outputs": [],
   "source": [
    "feature_x=sess.run(feature_net, feed_dict={images:(frames[:100]/255)})"
   ]
  },
  {
   "cell_type": "code",
   "execution_count": 13,
   "metadata": {
    "collapsed": false,
    "scrolled": false
   },
   "outputs": [
    {
     "name": "stdout",
     "output_type": "stream",
     "text": [
      "CPU times: user 0 ns, sys: 0 ns, total: 0 ns\n",
      "Wall time: 16.9 µs\n",
      "current i: 5\n",
      "current i: 10\n",
      "current i: 15\n",
      "current i: 20\n",
      "current i: 25\n",
      "current i: 30\n",
      "current i: 35\n",
      "current i: 40\n",
      "current i: 45\n",
      "current i: 50\n",
      "current i: 55\n",
      "current i: 60\n",
      "current i: 65\n",
      "current i: 70\n",
      "current i: 75\n",
      "current i: 80\n",
      "current i: 85\n",
      "current i: 90\n",
      "current i: 95\n",
      "current i: 100\n",
      "current i: 105\n",
      "current i: 110\n",
      "current i: 115\n",
      "current i: 120\n"
     ]
    }
   ],
   "source": [
    "%time\n",
    "for i in range(1,125):\n",
    "    if i%5==0:\n",
    "        print \"current i: \"+str(i)\n",
    "    feature_temp = sess.run([feature_net], feed_dict={images:frames[i*100:(i+1)*100]/255})[0]\n",
    "    feature_x=np.concatenate((feature_x, feature_temp), axis=0)"
   ]
  },
  {
   "cell_type": "code",
   "execution_count": 14,
   "metadata": {
    "collapsed": false
   },
   "outputs": [
    {
     "name": "stdout",
     "output_type": "stream",
     "text": [
      "(12500, 7, 7, 2048)\n"
     ]
    }
   ],
   "source": [
    "print feature_x.shape"
   ]
  },
  {
   "cell_type": "code",
   "execution_count": 15,
   "metadata": {
    "collapsed": true
   },
   "outputs": [],
   "source": [
    "np.save(\"/home/stream/whimh2.0/Bibi/test_res_50_scale5\",feature_x)"
   ]
  },
  {
   "cell_type": "code",
   "execution_count": 16,
   "metadata": {
    "collapsed": true
   },
   "outputs": [],
   "source": [
    "tf.reset_default_graph()\n",
    "sess.close()"
   ]
  },
  {
   "cell_type": "markdown",
   "metadata": {},
   "source": [
    "# forward Test for vgg16 pool5"
   ]
  },
  {
   "cell_type": "code",
   "execution_count": 1,
   "metadata": {
    "collapsed": true
   },
   "outputs": [],
   "source": [
    "import tensorflow as tf\n",
    "import matplotlib.pyplot as plt\n",
    "import numpy as np\n",
    "sess = tf.InteractiveSession()\n",
    "graph = tf.get_default_graph()"
   ]
  },
  {
   "cell_type": "code",
   "execution_count": 2,
   "metadata": {
    "collapsed": false
   },
   "outputs": [],
   "source": [
    "#load preprocessed data\n",
    "feature_x=np.load(\"/home/stream/whimh2.0/Bibi/test_X.npy\")\n"
   ]
  },
  {
   "cell_type": "code",
   "execution_count": 3,
   "metadata": {
    "collapsed": true
   },
   "outputs": [],
   "source": [
    "x_tf = tf.placeholder(tf.float32, shape=[None, 64,64,3])\n",
    "x_tf_1=tf.image.resize_images(x_tf,224,224)\n"
   ]
  },
  {
   "cell_type": "code",
   "execution_count": 4,
   "metadata": {
    "collapsed": false
   },
   "outputs": [],
   "source": [
    "frames=sess.run(x_tf_1, feed_dict={x_tf:(feature_x)})"
   ]
  },
  {
   "cell_type": "code",
   "execution_count": 5,
   "metadata": {
    "collapsed": false
   },
   "outputs": [],
   "source": [
    "del feature_x"
   ]
  },
  {
   "cell_type": "code",
   "execution_count": 6,
   "metadata": {
    "collapsed": false
   },
   "outputs": [],
   "source": [
    "#load the graph_def from disk\n",
    "with open(\"/home/stream/tensorflow-vgg16/vgg16-20160129.tfmodel\", mode='rb') as f:\n",
    "  fileContent = f.read()\n",
    "graph_def = tf.GraphDef()\n",
    "graph_def.ParseFromString(fileContent)"
   ]
  },
  {
   "cell_type": "code",
   "execution_count": 7,
   "metadata": {
    "collapsed": false
   },
   "outputs": [
    {
     "name": "stdout",
     "output_type": "stream",
     "text": [
      "graph loaded into default graph\n"
     ]
    }
   ],
   "source": [
    "x_tf_1=tf.placeholder(tf.float32, shape=[None, 224,224,3])\n",
    "y_tf = tf.placeholder(tf.int32, shape=[None,])\n",
    "# import the graph_def to default graph , replace images with x_tf_1/x_tf\n",
    "tf.import_graph_def(graph_def, input_map={ \"images\": x_tf_1 })\n",
    "print \"graph loaded into default graph\"\n",
    "graph = tf.get_default_graph()"
   ]
  },
  {
   "cell_type": "code",
   "execution_count": 8,
   "metadata": {
    "collapsed": false
   },
   "outputs": [],
   "source": [
    "#get the pooling5\n",
    "feature_net=graph.get_tensor_by_name(\"import/pool5:0\")\n",
    "#get the pooling4\n",
    "#feature_net=graph.get_tensor_by_name(\"import/conv5_2/Relu:0\")"
   ]
  },
  {
   "cell_type": "code",
   "execution_count": 9,
   "metadata": {
    "collapsed": false
   },
   "outputs": [],
   "source": [
    "feature_x=sess.run(feature_net, feed_dict={x_tf_1:(frames[:100])})"
   ]
  },
  {
   "cell_type": "code",
   "execution_count": 12,
   "metadata": {
    "collapsed": false,
    "scrolled": false
   },
   "outputs": [
    {
     "name": "stdout",
     "output_type": "stream",
     "text": [
      "CPU times: user 11 µs, sys: 1e+03 ns, total: 12 µs\n",
      "Wall time: 26 µs\n",
      "current i: 5\n",
      "current i: 10\n",
      "current i: 15\n",
      "current i: 20\n",
      "current i: 25\n",
      "current i: 30\n",
      "current i: 35\n",
      "current i: 40\n",
      "current i: 45\n",
      "current i: 50\n",
      "current i: 55\n",
      "current i: 60\n",
      "current i: 65\n",
      "current i: 70\n",
      "current i: 75\n",
      "current i: 80\n",
      "current i: 85\n",
      "current i: 90\n",
      "current i: 95\n",
      "current i: 100\n",
      "current i: 105\n",
      "current i: 110\n",
      "current i: 115\n",
      "current i: 120\n"
     ]
    }
   ],
   "source": [
    "%time\n",
    "for i in range(1,125):\n",
    "    if i%5==0:\n",
    "        print \"current i: \"+str(i)\n",
    "    feature_temp = sess.run([feature_net], feed_dict={x_tf_1:frames[i*100:(i+1)*100]})[0]\n",
    "    feature_x=np.concatenate((feature_x, feature_temp), axis=0)"
   ]
  },
  {
   "cell_type": "code",
   "execution_count": 15,
   "metadata": {
    "collapsed": false
   },
   "outputs": [
    {
     "data": {
      "text/plain": [
       "(12500, 7, 7, 512)"
      ]
     },
     "execution_count": 15,
     "metadata": {},
     "output_type": "execute_result"
    }
   ],
   "source": [
    "feature_x.shape"
   ]
  },
  {
   "cell_type": "code",
   "execution_count": 16,
   "metadata": {
    "collapsed": true
   },
   "outputs": [],
   "source": [
    "np.save(\"/home/stream/whimh2.0/Bibi/test_vgg_pool5\",feature_x)"
   ]
  },
  {
   "cell_type": "code",
   "execution_count": 17,
   "metadata": {
    "collapsed": true
   },
   "outputs": [],
   "source": [
    "tf.reset_default_graph()\n",
    "sess.close()"
   ]
  },
  {
   "cell_type": "code",
   "execution_count": null,
   "metadata": {
    "collapsed": true
   },
   "outputs": [],
   "source": []
  }
 ],
 "metadata": {
  "kernelspec": {
   "display_name": "Python 2",
   "language": "python",
   "name": "python2"
  },
  "language_info": {
   "codemirror_mode": {
    "name": "ipython",
    "version": 2
   },
   "file_extension": ".py",
   "mimetype": "text/x-python",
   "name": "python",
   "nbconvert_exporter": "python",
   "pygments_lexer": "ipython2",
   "version": "2.7.12"
  }
 },
 "nbformat": 4,
 "nbformat_minor": 0
}
