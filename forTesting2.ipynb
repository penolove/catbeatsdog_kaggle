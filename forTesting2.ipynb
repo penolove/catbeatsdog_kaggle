{
 "cells": [
  {
   "cell_type": "code",
   "execution_count": 1,
   "metadata": {
    "collapsed": true
   },
   "outputs": [],
   "source": [
    "import tensorflow as tf\n",
    "import matplotlib.pyplot as plt\n",
    "import numpy as np"
   ]
  },
  {
   "cell_type": "code",
   "execution_count": 2,
   "metadata": {
    "collapsed": true
   },
   "outputs": [],
   "source": [
    "sess = tf.InteractiveSession()"
   ]
  },
  {
   "cell_type": "code",
   "execution_count": 3,
   "metadata": {
    "collapsed": false
   },
   "outputs": [],
   "source": [
    "newsaver=tf.train.import_meta_graph('/home/stream/whimh2.0/Bibi/trained_model/resnet152.ckpt.meta')\n",
    "newsaver.restore(sess,'/home/stream/whimh2.0/Bibi/trained_model/resnet152.ckpt')"
   ]
  },
  {
   "cell_type": "code",
   "execution_count": 4,
   "metadata": {
    "collapsed": false
   },
   "outputs": [],
   "source": [
    "#[i.name for i in graph.get_operations()]\n",
    "#operation_name=[i.name for i in graph.get_operations()]\n",
    "#[i for i in operation_name if 'predictions_softmax' in i]\n",
    "graph = tf.get_default_graph()\n",
    "predctions=graph.get_tensor_by_name(\"fintune_whimh/measure/predict/predictions_:0\")\n",
    "soft_predctions=graph.get_tensor_by_name(\"fintune_whimh/Fc2/predictions_softmax:0\")\n",
    "\n",
    "x_tfed=graph.get_tensor_by_name(\"feature_x:0\")\n",
    "keep_prob=graph.get_tensor_by_name(\"fintune_whimh/Placeholder:0\")"
   ]
  },
  {
   "cell_type": "code",
   "execution_count": 5,
   "metadata": {
    "collapsed": true
   },
   "outputs": [],
   "source": [
    "feature_x=np.load(\"/home/stream/whimh2.0/Bibi/finetune_res_152_scale5.npy\")\n",
    "y_train=np.load(\"/home/stream/whimh2.0/Bibi/outfile_y.npy\").astype(int)"
   ]
  },
  {
   "cell_type": "code",
   "execution_count": 6,
   "metadata": {
    "collapsed": false
   },
   "outputs": [
    {
     "name": "stdout",
     "output_type": "stream",
     "text": [
      "there are (20000, 7, 7, 2048) images in training set\n",
      "there are (5000, 7, 7, 2048) images in testing set\n"
     ]
    }
   ],
   "source": [
    "#arr = np.arange(len(feature_x))\n",
    "#np.random.shuffle(arr)\n",
    "arr=np.load(\"/home/stream/whimh2.0/Bibi/20161020seed.npy\")\n",
    "\n",
    "x_train=feature_x[arr]\n",
    "y_train=y_train[arr]\n",
    "data={\n",
    "  'X_train': x_train[:int(len(x_train)*0.8)],\n",
    "  'y_train': y_train[:int(len(x_train)*0.8)],\n",
    "  'X_val': x_train[int(len(x_train)*0.8):],\n",
    "  'y_val': y_train[int(len(x_train)*0.8):],\n",
    "}\n",
    "print \"there are \"+ str(data['X_train'].shape) + \" images in training set\"\n",
    "print \"there are \"+ str(data['X_val'].shape) + \" images in testing set\""
   ]
  },
  {
   "cell_type": "code",
   "execution_count": 7,
   "metadata": {
    "collapsed": true
   },
   "outputs": [],
   "source": [
    "vali_prob=sess.run(soft_predctions, feed_dict={x_tfed:data['X_val'],keep_prob:1.0})"
   ]
  },
  {
   "cell_type": "code",
   "execution_count": 8,
   "metadata": {
    "collapsed": false
   },
   "outputs": [],
   "source": [
    "vali_prob= [i[1]  for i in vali_prob]"
   ]
  },
  {
   "cell_type": "code",
   "execution_count": 9,
   "metadata": {
    "collapsed": false
   },
   "outputs": [],
   "source": [
    "data=zip(vali_prob,data['y_val'])"
   ]
  },
  {
   "cell_type": "code",
   "execution_count": 10,
   "metadata": {
    "collapsed": false
   },
   "outputs": [],
   "source": [
    "import csv\n",
    "f = open(\"/home/stream/whimh2.0/Bibi/res152_vali.csv\",\"w\")\n",
    "w = csv.writer(f)\n",
    "w.writerows(data)\n",
    "f.close()"
   ]
  },
  {
   "cell_type": "code",
   "execution_count": 11,
   "metadata": {
    "collapsed": true
   },
   "outputs": [],
   "source": [
    "tf.reset_default_graph()\n",
    "sess.close()"
   ]
  },
  {
   "cell_type": "markdown",
   "metadata": {},
   "source": [
    "# rest 101\n"
   ]
  },
  {
   "cell_type": "code",
   "execution_count": 12,
   "metadata": {
    "collapsed": true
   },
   "outputs": [],
   "source": [
    "import tensorflow as tf\n",
    "import matplotlib.pyplot as plt\n",
    "import numpy as np"
   ]
  },
  {
   "cell_type": "code",
   "execution_count": 13,
   "metadata": {
    "collapsed": false
   },
   "outputs": [],
   "source": [
    "sess = tf.InteractiveSession()"
   ]
  },
  {
   "cell_type": "code",
   "execution_count": 14,
   "metadata": {
    "collapsed": true
   },
   "outputs": [],
   "source": [
    "newsaver=tf.train.import_meta_graph('/home/stream/whimh2.0/Bibi/trained_model/resnet101.ckpt.meta')\n",
    "newsaver.restore(sess,'/home/stream/whimh2.0/Bibi/trained_model/resnet101.ckpt')"
   ]
  },
  {
   "cell_type": "code",
   "execution_count": 15,
   "metadata": {
    "collapsed": true
   },
   "outputs": [],
   "source": [
    "#[i.name for i in graph.get_operations()]\n",
    "#operation_name=[i.name for i in graph.get_operations()]\n",
    "#[i for i in operation_name if 'predictions_softmax' in i]\n",
    "graph = tf.get_default_graph()\n",
    "predctions=graph.get_tensor_by_name(\"fintune_whimh/measure/predict/predictions_:0\")\n",
    "soft_predctions=graph.get_tensor_by_name(\"fintune_whimh/Fc2/predictions_softmax:0\")\n",
    "\n",
    "x_tfed=graph.get_tensor_by_name(\"feature_x:0\")\n",
    "keep_prob=graph.get_tensor_by_name(\"fintune_whimh/Placeholder:0\")"
   ]
  },
  {
   "cell_type": "code",
   "execution_count": 16,
   "metadata": {
    "collapsed": true
   },
   "outputs": [],
   "source": [
    "feature_x=np.load(\"/home/stream/whimh2.0/Bibi/finetune_res_101_scale5.npy\")\n",
    "y_train=np.load(\"/home/stream/whimh2.0/Bibi/outfile_y.npy\").astype(int)"
   ]
  },
  {
   "cell_type": "code",
   "execution_count": 17,
   "metadata": {
    "collapsed": false
   },
   "outputs": [
    {
     "name": "stdout",
     "output_type": "stream",
     "text": [
      "there are (20000, 7, 7, 2048) images in training set\n",
      "there are (5000, 7, 7, 2048) images in testing set\n"
     ]
    }
   ],
   "source": [
    "#arr = np.arange(len(feature_x))\n",
    "#np.random.shuffle(arr)\n",
    "arr=np.load(\"/home/stream/whimh2.0/Bibi/20161020seed.npy\")\n",
    "\n",
    "x_train=feature_x[arr]\n",
    "y_train=y_train[arr]\n",
    "data={\n",
    "  'X_train': x_train[:int(len(x_train)*0.8)],\n",
    "  'y_train': y_train[:int(len(x_train)*0.8)],\n",
    "  'X_val': x_train[int(len(x_train)*0.8):],\n",
    "  'y_val': y_train[int(len(x_train)*0.8):],\n",
    "}\n",
    "print \"there are \"+ str(data['X_train'].shape) + \" images in training set\"\n",
    "print \"there are \"+ str(data['X_val'].shape) + \" images in testing set\""
   ]
  },
  {
   "cell_type": "code",
   "execution_count": 18,
   "metadata": {
    "collapsed": true
   },
   "outputs": [],
   "source": [
    "w=sess.run(predctions, feed_dict={x_tfed:data['X_val'][:10],keep_prob:1.0})"
   ]
  },
  {
   "cell_type": "code",
   "execution_count": 19,
   "metadata": {
    "collapsed": false
   },
   "outputs": [
    {
     "data": {
      "text/plain": [
       "10"
      ]
     },
     "execution_count": 19,
     "metadata": {},
     "output_type": "execute_result"
    }
   ],
   "source": [
    "sum(data['y_val'][:10]==w)"
   ]
  },
  {
   "cell_type": "code",
   "execution_count": 20,
   "metadata": {
    "collapsed": true
   },
   "outputs": [],
   "source": [
    "vali_prob=sess.run(soft_predctions, feed_dict={x_tfed:data['X_val'],keep_prob:1.0})"
   ]
  },
  {
   "cell_type": "code",
   "execution_count": 21,
   "metadata": {
    "collapsed": false
   },
   "outputs": [],
   "source": [
    "vali_prob= [i[1]  for i in vali_prob]"
   ]
  },
  {
   "cell_type": "code",
   "execution_count": 22,
   "metadata": {
    "collapsed": false
   },
   "outputs": [],
   "source": [
    "data=zip(vali_prob,data['y_val'])"
   ]
  },
  {
   "cell_type": "code",
   "execution_count": 23,
   "metadata": {
    "collapsed": false
   },
   "outputs": [],
   "source": [
    "import csv\n",
    "f = open(\"/home/stream/whimh2.0/Bibi/res101_vali.csv\",\"w\")\n",
    "w = csv.writer(f)\n",
    "w.writerows(data)\n",
    "f.close()"
   ]
  },
  {
   "cell_type": "code",
   "execution_count": 24,
   "metadata": {
    "collapsed": true
   },
   "outputs": [],
   "source": [
    "tf.reset_default_graph()\n",
    "sess.close()"
   ]
  },
  {
   "cell_type": "markdown",
   "metadata": {},
   "source": [
    "# rest 50\n"
   ]
  },
  {
   "cell_type": "code",
   "execution_count": 25,
   "metadata": {
    "collapsed": true
   },
   "outputs": [],
   "source": [
    "import tensorflow as tf\n",
    "import matplotlib.pyplot as plt\n",
    "import numpy as np"
   ]
  },
  {
   "cell_type": "code",
   "execution_count": 26,
   "metadata": {
    "collapsed": false
   },
   "outputs": [],
   "source": [
    "sess = tf.InteractiveSession()"
   ]
  },
  {
   "cell_type": "code",
   "execution_count": 27,
   "metadata": {
    "collapsed": true
   },
   "outputs": [],
   "source": [
    "newsaver=tf.train.import_meta_graph('/home/stream/whimh2.0/Bibi/trained_model/resnet50.ckpt.meta')\n",
    "newsaver.restore(sess,'/home/stream/whimh2.0/Bibi/trained_model/resnet50.ckpt')"
   ]
  },
  {
   "cell_type": "code",
   "execution_count": 28,
   "metadata": {
    "collapsed": true
   },
   "outputs": [],
   "source": [
    "#[i.name for i in graph.get_operations()]\n",
    "#operation_name=[i.name for i in graph.get_operations()]\n",
    "#[i for i in operation_name if 'predictions_softmax' in i]\n",
    "graph = tf.get_default_graph()\n",
    "predctions=graph.get_tensor_by_name(\"fintune_whimh/measure/predict/predictions_:0\")\n",
    "soft_predctions=graph.get_tensor_by_name(\"fintune_whimh/Fc2/predictions_softmax:0\")\n",
    "\n",
    "x_tfed=graph.get_tensor_by_name(\"feature_x:0\")\n",
    "keep_prob=graph.get_tensor_by_name(\"fintune_whimh/Placeholder:0\")"
   ]
  },
  {
   "cell_type": "code",
   "execution_count": 29,
   "metadata": {
    "collapsed": true
   },
   "outputs": [],
   "source": [
    "feature_x=np.load(\"/home/stream/whimh2.0/Bibi/finetune_res_50_scale5.npy\")\n",
    "y_train=np.load(\"/home/stream/whimh2.0/Bibi/outfile_y.npy\").astype(int)"
   ]
  },
  {
   "cell_type": "code",
   "execution_count": 30,
   "metadata": {
    "collapsed": false
   },
   "outputs": [
    {
     "name": "stdout",
     "output_type": "stream",
     "text": [
      "there are (20000, 7, 7, 2048) images in training set\n",
      "there are (5000, 7, 7, 2048) images in testing set\n"
     ]
    }
   ],
   "source": [
    "#arr = np.arange(len(feature_x))\n",
    "#np.random.shuffle(arr)\n",
    "arr=np.load(\"/home/stream/whimh2.0/Bibi/20161020seed.npy\")\n",
    "\n",
    "x_train=feature_x[arr]\n",
    "y_train=y_train[arr]\n",
    "data={\n",
    "  'X_train': x_train[:int(len(x_train)*0.8)],\n",
    "  'y_train': y_train[:int(len(x_train)*0.8)],\n",
    "  'X_val': x_train[int(len(x_train)*0.8):],\n",
    "  'y_val': y_train[int(len(x_train)*0.8):],\n",
    "}\n",
    "print \"there are \"+ str(data['X_train'].shape) + \" images in training set\"\n",
    "print \"there are \"+ str(data['X_val'].shape) + \" images in testing set\""
   ]
  },
  {
   "cell_type": "code",
   "execution_count": 31,
   "metadata": {
    "collapsed": true
   },
   "outputs": [],
   "source": [
    "w=sess.run(predctions, feed_dict={x_tfed:data['X_val'][:10],keep_prob:1.0})"
   ]
  },
  {
   "cell_type": "code",
   "execution_count": 32,
   "metadata": {
    "collapsed": false
   },
   "outputs": [
    {
     "data": {
      "text/plain": [
       "10"
      ]
     },
     "execution_count": 32,
     "metadata": {},
     "output_type": "execute_result"
    }
   ],
   "source": [
    "sum(data['y_val'][:10]==w)"
   ]
  },
  {
   "cell_type": "code",
   "execution_count": 33,
   "metadata": {
    "collapsed": true
   },
   "outputs": [],
   "source": [
    "vali_prob=sess.run(soft_predctions, feed_dict={x_tfed:data['X_val'],keep_prob:1.0})"
   ]
  },
  {
   "cell_type": "code",
   "execution_count": 34,
   "metadata": {
    "collapsed": false
   },
   "outputs": [],
   "source": [
    "vali_prob= [i[1]  for i in vali_prob]"
   ]
  },
  {
   "cell_type": "code",
   "execution_count": 35,
   "metadata": {
    "collapsed": false
   },
   "outputs": [],
   "source": [
    "data=zip(vali_prob,data['y_val'])"
   ]
  },
  {
   "cell_type": "code",
   "execution_count": 36,
   "metadata": {
    "collapsed": false
   },
   "outputs": [],
   "source": [
    "import csv\n",
    "f = open(\"/home/stream/whimh2.0/Bibi/res50_vali.csv\",\"w\")\n",
    "w = csv.writer(f)\n",
    "w.writerows(data)\n",
    "f.close()"
   ]
  },
  {
   "cell_type": "code",
   "execution_count": 37,
   "metadata": {
    "collapsed": true
   },
   "outputs": [],
   "source": [
    "tf.reset_default_graph()\n",
    "sess.close()"
   ]
  },
  {
   "cell_type": "markdown",
   "metadata": {},
   "source": [
    "# Vgg pool5"
   ]
  },
  {
   "cell_type": "code",
   "execution_count": 38,
   "metadata": {
    "collapsed": true
   },
   "outputs": [],
   "source": [
    "import tensorflow as tf\n",
    "import matplotlib.pyplot as plt\n",
    "import numpy as np"
   ]
  },
  {
   "cell_type": "code",
   "execution_count": 39,
   "metadata": {
    "collapsed": false
   },
   "outputs": [],
   "source": [
    "sess = tf.InteractiveSession()"
   ]
  },
  {
   "cell_type": "code",
   "execution_count": 40,
   "metadata": {
    "collapsed": true
   },
   "outputs": [],
   "source": [
    "newsaver=tf.train.import_meta_graph('/home/stream/whimh2.0/Bibi/trained_model/vgg_pool5.ckpt.meta')\n",
    "newsaver.restore(sess,'/home/stream/whimh2.0/Bibi/trained_model/vgg_pool5.ckpt')"
   ]
  },
  {
   "cell_type": "code",
   "execution_count": 41,
   "metadata": {
    "collapsed": true
   },
   "outputs": [],
   "source": [
    "#[i.name for i in graph.get_operations()]\n",
    "#operation_name=[i.name for i in graph.get_operations()]\n",
    "#[i for i in operation_name if 'predictions_softmax' in i]\n",
    "graph = tf.get_default_graph()\n",
    "predctions=graph.get_tensor_by_name(\"fintune_whimh/measure/predict/predictions_:0\")\n",
    "soft_predctions=graph.get_tensor_by_name(\"fintune_whimh/Fc2/predictions_softmax:0\")\n",
    "\n",
    "x_tfed=graph.get_tensor_by_name(\"feature_x:0\")\n",
    "keep_prob=graph.get_tensor_by_name(\"fintune_whimh/Placeholder:0\")"
   ]
  },
  {
   "cell_type": "code",
   "execution_count": 42,
   "metadata": {
    "collapsed": true
   },
   "outputs": [],
   "source": [
    "feature_x=np.load(\"/home/stream/whimh2.0/Bibi/finetune_vgg_pool5.npy\")\n",
    "#frames=np.load(\"/home/stream/whimh2.0/Bibi/outfile_x.npy\")\n",
    "y_train=np.load(\"/home/stream/whimh2.0/Bibi/outfile_y.npy\").astype(int)"
   ]
  },
  {
   "cell_type": "code",
   "execution_count": 43,
   "metadata": {
    "collapsed": false
   },
   "outputs": [
    {
     "name": "stdout",
     "output_type": "stream",
     "text": [
      "there are (20000, 7, 7, 512) images in training set\n",
      "there are (5000, 7, 7, 512) images in testing set\n"
     ]
    }
   ],
   "source": [
    "#arr = np.arange(len(feature_x))\n",
    "#np.random.shuffle(arr)\n",
    "arr=np.load(\"/home/stream/whimh2.0/Bibi/20161020seed.npy\")\n",
    "\n",
    "x_train=feature_x[arr]\n",
    "y_train=y_train[arr]\n",
    "data={\n",
    "  'X_train': x_train[:int(len(x_train)*0.8)],\n",
    "  'y_train': y_train[:int(len(x_train)*0.8)],\n",
    "  'X_val': x_train[int(len(x_train)*0.8):],\n",
    "  'y_val': y_train[int(len(x_train)*0.8):],\n",
    "}\n",
    "print \"there are \"+ str(data['X_train'].shape) + \" images in training set\"\n",
    "print \"there are \"+ str(data['X_val'].shape) + \" images in testing set\""
   ]
  },
  {
   "cell_type": "code",
   "execution_count": 44,
   "metadata": {
    "collapsed": true
   },
   "outputs": [],
   "source": [
    "w=sess.run(predctions, feed_dict={x_tfed:data['X_val'][:10],keep_prob:1.0})"
   ]
  },
  {
   "cell_type": "code",
   "execution_count": 45,
   "metadata": {
    "collapsed": false
   },
   "outputs": [
    {
     "data": {
      "text/plain": [
       "9"
      ]
     },
     "execution_count": 45,
     "metadata": {},
     "output_type": "execute_result"
    }
   ],
   "source": [
    "sum(data['y_val'][:10]==w)"
   ]
  },
  {
   "cell_type": "code",
   "execution_count": 46,
   "metadata": {
    "collapsed": true
   },
   "outputs": [],
   "source": [
    "vali_prob=sess.run(soft_predctions, feed_dict={x_tfed:data['X_val'],keep_prob:1.0})"
   ]
  },
  {
   "cell_type": "code",
   "execution_count": 47,
   "metadata": {
    "collapsed": false
   },
   "outputs": [],
   "source": [
    "vali_prob= [i[1]  for i in vali_prob]"
   ]
  },
  {
   "cell_type": "code",
   "execution_count": 48,
   "metadata": {
    "collapsed": false
   },
   "outputs": [],
   "source": [
    "data=zip(vali_prob,data['y_val'])"
   ]
  },
  {
   "cell_type": "code",
   "execution_count": 49,
   "metadata": {
    "collapsed": false
   },
   "outputs": [],
   "source": [
    "import csv\n",
    "f = open(\"/home/stream/whimh2.0/Bibi/vgg_pool5.csv\",\"w\")\n",
    "w = csv.writer(f)\n",
    "w.writerows(data)\n",
    "f.close()"
   ]
  },
  {
   "cell_type": "code",
   "execution_count": 50,
   "metadata": {
    "collapsed": true
   },
   "outputs": [],
   "source": [
    "tf.reset_default_graph()\n",
    "sess.close()"
   ]
  },
  {
   "cell_type": "code",
   "execution_count": null,
   "metadata": {
    "collapsed": true
   },
   "outputs": [],
   "source": []
  }
 ],
 "metadata": {
  "kernelspec": {
   "display_name": "Python 2",
   "language": "python",
   "name": "python2"
  },
  "language_info": {
   "codemirror_mode": {
    "name": "ipython",
    "version": 2
   },
   "file_extension": ".py",
   "mimetype": "text/x-python",
   "name": "python",
   "nbconvert_exporter": "python",
   "pygments_lexer": "ipython2",
   "version": "2.7.12"
  }
 },
 "nbformat": 4,
 "nbformat_minor": 0
}
