{
 "cells": [
  {
   "cell_type": "markdown",
   "metadata": {},
   "source": [
    "# Res152"
   ]
  },
  {
   "cell_type": "code",
   "execution_count": 1,
   "metadata": {
    "collapsed": true
   },
   "outputs": [],
   "source": [
    "import tensorflow as tf\n",
    "import matplotlib.pyplot as plt\n",
    "import numpy as np"
   ]
  },
  {
   "cell_type": "code",
   "execution_count": 2,
   "metadata": {
    "collapsed": true
   },
   "outputs": [],
   "source": [
    "sess = tf.InteractiveSession()"
   ]
  },
  {
   "cell_type": "code",
   "execution_count": 3,
   "metadata": {
    "collapsed": true
   },
   "outputs": [],
   "source": [
    "newsaver=tf.train.import_meta_graph('/home/stream/whimh2.0/Bibi/trained_model/resnet152.ckpt.meta')\n",
    "newsaver.restore(sess,'/home/stream/whimh2.0/Bibi/trained_model/resnet152.ckpt')"
   ]
  },
  {
   "cell_type": "code",
   "execution_count": 4,
   "metadata": {
    "collapsed": true
   },
   "outputs": [],
   "source": [
    "feature_x=np.load(\"/home/stream/whimh2.0/Bibi/test_res_152_scale5.npy\")"
   ]
  },
  {
   "cell_type": "code",
   "execution_count": 5,
   "metadata": {
    "collapsed": true
   },
   "outputs": [],
   "source": [
    "y_ID=np.load(\"/home/stream/whimh2.0/Bibi/test_ID.npy\")"
   ]
  },
  {
   "cell_type": "code",
   "execution_count": 6,
   "metadata": {
    "collapsed": true
   },
   "outputs": [],
   "source": [
    "#[i.name for i in graph.get_operations()]\n",
    "#operation_name=[i.name for i in graph.get_operations()]\n",
    "#[i for i in operation_name if 'predictions_softmax' in i]\n",
    "graph = tf.get_default_graph()\n",
    "predctions=graph.get_tensor_by_name(\"fintune_whimh/measure/predict/predictions_:0\")\n",
    "soft_predctions=graph.get_tensor_by_name(\"fintune_whimh/Fc2/predictions_softmax:0\")\n",
    "\n",
    "x_tfed=graph.get_tensor_by_name(\"feature_x:0\")\n",
    "keep_prob=graph.get_tensor_by_name(\"fintune_whimh/Placeholder:0\")"
   ]
  },
  {
   "cell_type": "code",
   "execution_count": 7,
   "metadata": {
    "collapsed": false
   },
   "outputs": [
    {
     "name": "stdout",
     "output_type": "stream",
     "text": [
      "Tensor(\"fintune_whimh/Placeholder:0\", dtype=float32)\n",
      "Tensor(\"feature_x:0\", shape=(?, 7, 7, 2048), dtype=float32)\n",
      "Tensor(\"fintune_whimh/measure/predict/predictions_:0\", shape=(?,), dtype=int64)\n"
     ]
    }
   ],
   "source": [
    "print keep_prob\n",
    "print x_tfed\n",
    "print predctions"
   ]
  },
  {
   "cell_type": "code",
   "execution_count": 8,
   "metadata": {
    "collapsed": true
   },
   "outputs": [],
   "source": [
    "w=sess.run(soft_predctions, feed_dict={x_tfed:feature_x[:5],keep_prob:1.0})"
   ]
  },
  {
   "cell_type": "code",
   "execution_count": 9,
   "metadata": {
    "collapsed": false
   },
   "outputs": [
    {
     "name": "stdout",
     "output_type": "stream",
     "text": [
      "[0.99996793, 0.99891484, 0.99866033, 0.99912721, 0.9997825]\n",
      "[    1    10   100  1000 10000]\n"
     ]
    }
   ],
   "source": [
    "print [max(i) for i in w]\n",
    "print y_ID[:5]"
   ]
  },
  {
   "cell_type": "code",
   "execution_count": 10,
   "metadata": {
    "collapsed": true
   },
   "outputs": [],
   "source": [
    "train_writer = tf.train.SummaryWriter('/tmp/loser1/train',sess.graph)"
   ]
  },
  {
   "cell_type": "code",
   "execution_count": 11,
   "metadata": {
    "collapsed": true
   },
   "outputs": [],
   "source": [
    "testing_prob=sess.run(soft_predctions, feed_dict={x_tfed:feature_x,keep_prob:1.0})"
   ]
  },
  {
   "cell_type": "code",
   "execution_count": 12,
   "metadata": {
    "collapsed": false
   },
   "outputs": [
    {
     "name": "stdout",
     "output_type": "stream",
     "text": [
      "[0.99996793, 0.0010852262, 0.0013396894, 0.99912721, 0.9997825]\n",
      "[    1    10   100  1000 10000]\n"
     ]
    }
   ],
   "source": [
    "print [i[1] for i in w]\n",
    "print y_ID[:5]"
   ]
  },
  {
   "cell_type": "code",
   "execution_count": 13,
   "metadata": {
    "collapsed": true
   },
   "outputs": [],
   "source": [
    "testing_prob= [i[1]  for i in testing_prob]"
   ]
  },
  {
   "cell_type": "code",
   "execution_count": 14,
   "metadata": {
    "collapsed": false
   },
   "outputs": [],
   "source": [
    "data=zip(testing_prob,y_ID)"
   ]
  },
  {
   "cell_type": "code",
   "execution_count": 15,
   "metadata": {
    "collapsed": false
   },
   "outputs": [],
   "source": [
    "import csv\n",
    "f = open(\"/home/stream/whimh2.0/Bibi/res152_test.csv\",\"w\")\n",
    "w = csv.writer(f)\n",
    "w.writerows(data)\n",
    "f.close()"
   ]
  },
  {
   "cell_type": "code",
   "execution_count": 16,
   "metadata": {
    "collapsed": true
   },
   "outputs": [],
   "source": [
    "tf.reset_default_graph()\n",
    "sess.close()"
   ]
  },
  {
   "cell_type": "markdown",
   "metadata": {},
   "source": [
    "# Res101"
   ]
  },
  {
   "cell_type": "code",
   "execution_count": 17,
   "metadata": {
    "collapsed": true
   },
   "outputs": [],
   "source": [
    "import tensorflow as tf\n",
    "import matplotlib.pyplot as plt\n",
    "import numpy as np"
   ]
  },
  {
   "cell_type": "code",
   "execution_count": 18,
   "metadata": {
    "collapsed": true
   },
   "outputs": [],
   "source": [
    "sess = tf.InteractiveSession()"
   ]
  },
  {
   "cell_type": "code",
   "execution_count": 19,
   "metadata": {
    "collapsed": true
   },
   "outputs": [],
   "source": [
    "newsaver=tf.train.import_meta_graph('/home/stream/whimh2.0/Bibi/trained_model/resnet101.ckpt.meta')\n",
    "newsaver.restore(sess,'/home/stream/whimh2.0/Bibi/trained_model/resnet101.ckpt')"
   ]
  },
  {
   "cell_type": "code",
   "execution_count": 20,
   "metadata": {
    "collapsed": true
   },
   "outputs": [],
   "source": [
    "feature_x=np.load(\"/home/stream/whimh2.0/Bibi/test_res_101_scale5.npy\")"
   ]
  },
  {
   "cell_type": "code",
   "execution_count": 21,
   "metadata": {
    "collapsed": true
   },
   "outputs": [],
   "source": [
    "y_ID=np.load(\"/home/stream/whimh2.0/Bibi/test_ID.npy\")"
   ]
  },
  {
   "cell_type": "code",
   "execution_count": 22,
   "metadata": {
    "collapsed": true
   },
   "outputs": [],
   "source": [
    "#[i.name for i in graph.get_operations()]\n",
    "#operation_name=[i.name for i in graph.get_operations()]\n",
    "#[i for i in operation_name if 'predictions_softmax' in i]\n",
    "graph = tf.get_default_graph()\n",
    "predctions=graph.get_tensor_by_name(\"fintune_whimh/measure/predict/predictions_:0\")\n",
    "soft_predctions=graph.get_tensor_by_name(\"fintune_whimh/Fc2/predictions_softmax:0\")\n",
    "\n",
    "x_tfed=graph.get_tensor_by_name(\"feature_x:0\")\n",
    "keep_prob=graph.get_tensor_by_name(\"fintune_whimh/Placeholder:0\")"
   ]
  },
  {
   "cell_type": "code",
   "execution_count": 23,
   "metadata": {
    "collapsed": false
   },
   "outputs": [
    {
     "name": "stdout",
     "output_type": "stream",
     "text": [
      "Tensor(\"fintune_whimh/Placeholder:0\", dtype=float32)\n",
      "Tensor(\"feature_x:0\", shape=(?, 7, 7, 2048), dtype=float32)\n",
      "Tensor(\"fintune_whimh/measure/predict/predictions_:0\", shape=(?,), dtype=int64)\n"
     ]
    }
   ],
   "source": [
    "print keep_prob\n",
    "print x_tfed\n",
    "print predctions"
   ]
  },
  {
   "cell_type": "code",
   "execution_count": 24,
   "metadata": {
    "collapsed": true
   },
   "outputs": [],
   "source": [
    "w=sess.run(soft_predctions, feed_dict={x_tfed:feature_x[:5],keep_prob:1.0})"
   ]
  },
  {
   "cell_type": "code",
   "execution_count": 25,
   "metadata": {
    "collapsed": false
   },
   "outputs": [
    {
     "name": "stdout",
     "output_type": "stream",
     "text": [
      "[0.99995697, 0.00010391106, 0.00058329792, 0.99982625, 0.99973255]\n",
      "[    1    10   100  1000 10000]\n"
     ]
    }
   ],
   "source": [
    "print [i[1] for i in w]\n",
    "print y_ID[:5]\n",
    "#1 0 0 1 1"
   ]
  },
  {
   "cell_type": "code",
   "execution_count": 26,
   "metadata": {
    "collapsed": true
   },
   "outputs": [],
   "source": [
    "#train_writer = tf.train.SummaryWriter('/tmp/loser1/train',sess.graph)"
   ]
  },
  {
   "cell_type": "code",
   "execution_count": 27,
   "metadata": {
    "collapsed": true
   },
   "outputs": [],
   "source": [
    "testing_prob=sess.run(soft_predctions, feed_dict={x_tfed:feature_x,keep_prob:1.0})"
   ]
  },
  {
   "cell_type": "code",
   "execution_count": 28,
   "metadata": {
    "collapsed": true
   },
   "outputs": [],
   "source": [
    "testing_prob= [i[1]  for i in testing_prob]"
   ]
  },
  {
   "cell_type": "code",
   "execution_count": 29,
   "metadata": {
    "collapsed": false
   },
   "outputs": [],
   "source": [
    "data=zip(testing_prob,y_ID)"
   ]
  },
  {
   "cell_type": "code",
   "execution_count": 30,
   "metadata": {
    "collapsed": false
   },
   "outputs": [],
   "source": [
    "import csv\n",
    "f = open(\"/home/stream/whimh2.0/Bibi/res101_test.csv\",\"w\")\n",
    "w = csv.writer(f)\n",
    "w.writerows(data)\n",
    "f.close()"
   ]
  },
  {
   "cell_type": "code",
   "execution_count": 31,
   "metadata": {
    "collapsed": true
   },
   "outputs": [],
   "source": [
    "tf.reset_default_graph()\n",
    "sess.close()"
   ]
  },
  {
   "cell_type": "markdown",
   "metadata": {},
   "source": [
    "# res 50"
   ]
  },
  {
   "cell_type": "code",
   "execution_count": 32,
   "metadata": {
    "collapsed": true
   },
   "outputs": [],
   "source": [
    "import tensorflow as tf\n",
    "import matplotlib.pyplot as plt\n",
    "import numpy as np"
   ]
  },
  {
   "cell_type": "code",
   "execution_count": 33,
   "metadata": {
    "collapsed": false
   },
   "outputs": [],
   "source": [
    "sess = tf.InteractiveSession()"
   ]
  },
  {
   "cell_type": "code",
   "execution_count": 34,
   "metadata": {
    "collapsed": true
   },
   "outputs": [],
   "source": [
    "newsaver=tf.train.import_meta_graph('/home/stream/whimh2.0/Bibi/trained_model/resnet50.ckpt.meta')\n",
    "newsaver.restore(sess,'/home/stream/whimh2.0/Bibi/trained_model/resnet50.ckpt')"
   ]
  },
  {
   "cell_type": "code",
   "execution_count": 35,
   "metadata": {
    "collapsed": true
   },
   "outputs": [],
   "source": [
    "feature_x=np.load(\"/home/stream/whimh2.0/Bibi/test_res_50_scale5.npy\")"
   ]
  },
  {
   "cell_type": "code",
   "execution_count": 36,
   "metadata": {
    "collapsed": true
   },
   "outputs": [],
   "source": [
    "y_ID=np.load(\"/home/stream/whimh2.0/Bibi/test_ID.npy\")"
   ]
  },
  {
   "cell_type": "code",
   "execution_count": 37,
   "metadata": {
    "collapsed": true
   },
   "outputs": [],
   "source": [
    "#[i.name for i in graph.get_operations()]\n",
    "#operation_name=[i.name for i in graph.get_operations()]\n",
    "#[i for i in operation_name if 'predictions_softmax' in i]\n",
    "graph = tf.get_default_graph()\n",
    "predctions=graph.get_tensor_by_name(\"fintune_whimh/measure/predict/predictions_:0\")\n",
    "soft_predctions=graph.get_tensor_by_name(\"fintune_whimh/Fc2/predictions_softmax:0\")\n",
    "\n",
    "x_tfed=graph.get_tensor_by_name(\"feature_x:0\")\n",
    "keep_prob=graph.get_tensor_by_name(\"fintune_whimh/Placeholder:0\")"
   ]
  },
  {
   "cell_type": "code",
   "execution_count": 38,
   "metadata": {
    "collapsed": false
   },
   "outputs": [
    {
     "name": "stdout",
     "output_type": "stream",
     "text": [
      "Tensor(\"fintune_whimh/Placeholder:0\", dtype=float32)\n",
      "Tensor(\"feature_x:0\", shape=(?, 7, 7, 2048), dtype=float32)\n",
      "Tensor(\"fintune_whimh/measure/predict/predictions_:0\", shape=(?,), dtype=int64)\n"
     ]
    }
   ],
   "source": [
    "print keep_prob\n",
    "print x_tfed\n",
    "print predctions"
   ]
  },
  {
   "cell_type": "code",
   "execution_count": 39,
   "metadata": {
    "collapsed": true
   },
   "outputs": [],
   "source": [
    "w=sess.run(soft_predctions, feed_dict={x_tfed:feature_x[:5],keep_prob:1.0})"
   ]
  },
  {
   "cell_type": "code",
   "execution_count": 40,
   "metadata": {
    "collapsed": false
   },
   "outputs": [
    {
     "name": "stdout",
     "output_type": "stream",
     "text": [
      "[0.99766529, 0.00015542915, 0.0028952826, 0.9993242, 0.99872178]\n",
      "[    1    10   100  1000 10000]\n"
     ]
    }
   ],
   "source": [
    "print [i[1] for i in w]\n",
    "print y_ID[:5]\n",
    "#1 0 0 1 1"
   ]
  },
  {
   "cell_type": "code",
   "execution_count": 41,
   "metadata": {
    "collapsed": true
   },
   "outputs": [],
   "source": [
    "#train_writer = tf.train.SummaryWriter('/tmp/loser1/train',sess.graph)"
   ]
  },
  {
   "cell_type": "code",
   "execution_count": 42,
   "metadata": {
    "collapsed": true
   },
   "outputs": [],
   "source": [
    "testing_prob=sess.run(soft_predctions, feed_dict={x_tfed:feature_x,keep_prob:1.0})"
   ]
  },
  {
   "cell_type": "code",
   "execution_count": 43,
   "metadata": {
    "collapsed": true
   },
   "outputs": [],
   "source": [
    "testing_prob= [i[1]  for i in testing_prob]"
   ]
  },
  {
   "cell_type": "code",
   "execution_count": 44,
   "metadata": {
    "collapsed": false
   },
   "outputs": [],
   "source": [
    "data=zip(testing_prob,y_ID)"
   ]
  },
  {
   "cell_type": "code",
   "execution_count": 45,
   "metadata": {
    "collapsed": false
   },
   "outputs": [],
   "source": [
    "import csv\n",
    "f = open(\"/home/stream/whimh2.0/Bibi/res50_test.csv\",\"w\")\n",
    "w = csv.writer(f)\n",
    "w.writerows(data)\n",
    "f.close()"
   ]
  },
  {
   "cell_type": "code",
   "execution_count": 46,
   "metadata": {
    "collapsed": true
   },
   "outputs": [],
   "source": [
    "tf.reset_default_graph()\n",
    "sess.close()"
   ]
  },
  {
   "cell_type": "markdown",
   "metadata": {},
   "source": [
    "# vgg16 pool5"
   ]
  },
  {
   "cell_type": "code",
   "execution_count": 47,
   "metadata": {
    "collapsed": true
   },
   "outputs": [],
   "source": [
    "import tensorflow as tf\n",
    "import matplotlib.pyplot as plt\n",
    "import numpy as np"
   ]
  },
  {
   "cell_type": "code",
   "execution_count": 48,
   "metadata": {
    "collapsed": false
   },
   "outputs": [],
   "source": [
    "sess = tf.InteractiveSession()"
   ]
  },
  {
   "cell_type": "code",
   "execution_count": 49,
   "metadata": {
    "collapsed": true
   },
   "outputs": [],
   "source": [
    "newsaver=tf.train.import_meta_graph('/home/stream/whimh2.0/Bibi/trained_model/vgg_pool5.ckpt.meta')\n",
    "newsaver.restore(sess,'/home/stream/whimh2.0/Bibi/trained_model/vgg_pool5.ckpt')"
   ]
  },
  {
   "cell_type": "code",
   "execution_count": 50,
   "metadata": {
    "collapsed": true
   },
   "outputs": [],
   "source": [
    "feature_x=np.load(\"/home/stream/whimh2.0/Bibi/test_vgg_pool5.npy\")"
   ]
  },
  {
   "cell_type": "code",
   "execution_count": 51,
   "metadata": {
    "collapsed": true
   },
   "outputs": [],
   "source": [
    "y_ID=np.load(\"/home/stream/whimh2.0/Bibi/test_ID.npy\")"
   ]
  },
  {
   "cell_type": "code",
   "execution_count": 52,
   "metadata": {
    "collapsed": true
   },
   "outputs": [],
   "source": [
    "#[i.name for i in graph.get_operations()]\n",
    "#operation_name=[i.name for i in graph.get_operations()]\n",
    "#[i for i in operation_name if 'predictions_softmax' in i]\n",
    "graph = tf.get_default_graph()\n",
    "predctions=graph.get_tensor_by_name(\"fintune_whimh/measure/predict/predictions_:0\")\n",
    "soft_predctions=graph.get_tensor_by_name(\"fintune_whimh/Fc2/predictions_softmax:0\")\n",
    "\n",
    "x_tfed=graph.get_tensor_by_name(\"feature_x:0\")\n",
    "keep_prob=graph.get_tensor_by_name(\"fintune_whimh/Placeholder:0\")"
   ]
  },
  {
   "cell_type": "code",
   "execution_count": 53,
   "metadata": {
    "collapsed": false
   },
   "outputs": [
    {
     "name": "stdout",
     "output_type": "stream",
     "text": [
      "Tensor(\"fintune_whimh/Placeholder:0\", dtype=float32)\n",
      "Tensor(\"feature_x:0\", shape=(?, 7, 7, 512), dtype=float32)\n",
      "Tensor(\"fintune_whimh/measure/predict/predictions_:0\", shape=(?,), dtype=int64)\n"
     ]
    }
   ],
   "source": [
    "print keep_prob\n",
    "print x_tfed\n",
    "print predctions"
   ]
  },
  {
   "cell_type": "code",
   "execution_count": 54,
   "metadata": {
    "collapsed": true
   },
   "outputs": [],
   "source": [
    "w=sess.run(soft_predctions, feed_dict={x_tfed:feature_x[:5],keep_prob:1.0})"
   ]
  },
  {
   "cell_type": "code",
   "execution_count": 55,
   "metadata": {
    "collapsed": false
   },
   "outputs": [
    {
     "name": "stdout",
     "output_type": "stream",
     "text": [
      "[0.99948871, 5.9986294e-05, 0.00074942858, 0.99644464, 0.98935246]\n",
      "[    1    10   100  1000 10000]\n"
     ]
    }
   ],
   "source": [
    "print [i[1] for i in w]\n",
    "print y_ID[:5]\n",
    "#1 0 0 1 1"
   ]
  },
  {
   "cell_type": "code",
   "execution_count": 56,
   "metadata": {
    "collapsed": true
   },
   "outputs": [],
   "source": [
    "#train_writer = tf.train.SummaryWriter('/tmp/loser1/train',sess.graph)"
   ]
  },
  {
   "cell_type": "code",
   "execution_count": 57,
   "metadata": {
    "collapsed": true
   },
   "outputs": [],
   "source": [
    "testing_prob=sess.run(soft_predctions, feed_dict={x_tfed:feature_x,keep_prob:1.0})"
   ]
  },
  {
   "cell_type": "code",
   "execution_count": 58,
   "metadata": {
    "collapsed": true
   },
   "outputs": [],
   "source": [
    "testing_prob= [i[1]  for i in testing_prob]"
   ]
  },
  {
   "cell_type": "code",
   "execution_count": 59,
   "metadata": {
    "collapsed": false
   },
   "outputs": [],
   "source": [
    "data=zip(testing_prob,y_ID)"
   ]
  },
  {
   "cell_type": "code",
   "execution_count": 60,
   "metadata": {
    "collapsed": false
   },
   "outputs": [],
   "source": [
    "import csv\n",
    "f = open(\"/home/stream/whimh2.0/Bibi/vgg16_pool5_test.csv\",\"w\")\n",
    "w = csv.writer(f)\n",
    "w.writerows(data)\n",
    "f.close()"
   ]
  },
  {
   "cell_type": "code",
   "execution_count": 61,
   "metadata": {
    "collapsed": true
   },
   "outputs": [],
   "source": [
    "tf.reset_default_graph()\n",
    "sess.close()"
   ]
  }
 ],
 "metadata": {
  "kernelspec": {
   "display_name": "Python 2",
   "language": "python",
   "name": "python2"
  },
  "language_info": {
   "codemirror_mode": {
    "name": "ipython",
    "version": 2
   },
   "file_extension": ".py",
   "mimetype": "text/x-python",
   "name": "python",
   "nbconvert_exporter": "python",
   "pygments_lexer": "ipython2",
   "version": "2.7.12"
  }
 },
 "nbformat": 4,
 "nbformat_minor": 0
}
